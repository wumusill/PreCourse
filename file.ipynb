{
 "cells": [
  {
   "cell_type": "markdown",
   "id": "d4f57e96",
   "metadata": {},
   "source": [
    "# File Read \n",
    "### read() txt파일 안에 있는 내용을 문자열로 반환"
   ]
  },
  {
   "cell_type": "code",
   "execution_count": null,
   "id": "ee2d0c29",
   "metadata": {},
   "outputs": [],
   "source": [
    "f = open(\"파일명.txt\", \"r\")\n",
    "contents = f.read()\n",
    "print(contents)\n",
    "f.close()"
   ]
  },
  {
   "cell_type": "markdown",
   "id": "ff6c0c0b",
   "metadata": {},
   "source": [
    "### with 구문과 함께 사용\n",
    "### 별도의 종료문 없이도 블록이 끝나면 종료"
   ]
  },
  {
   "cell_type": "code",
   "execution_count": null,
   "id": "d640f4ad",
   "metadata": {},
   "outputs": [],
   "source": [
    "with open(\"파일명.txt\", \"r\") as my_file:\n",
    "    contents = my_file.read()\n",
    "    print(type(contents), contents)"
   ]
  },
  {
   "cell_type": "markdown",
   "id": "763e284f",
   "metadata": {},
   "source": [
    "### 한 줄씩 읽어와서 list로 반환"
   ]
  },
  {
   "cell_type": "code",
   "execution_count": null,
   "id": "b1d62879",
   "metadata": {},
   "outputs": [],
   "source": [
    "with open(\"파일명.txt\", \"r\") as my_file:\n",
    "    contents_list = my_file.readlines() # 파일 전체를 list 반환\n",
    "    print(type(contents_list)) # Type 확인\n",
    "    print(contents_list)"
   ]
  },
  {
   "cell_type": "markdown",
   "id": "66a420ac",
   "metadata": {},
   "source": [
    "### 실행 시 마다 한 줄 씩 읽어 오기"
   ]
  },
  {
   "cell_type": "code",
   "execution_count": null,
   "id": "6cbafbf0",
   "metadata": {},
   "outputs": [],
   "source": [
    "with open(\"파일명.txt\", \"r\") as my_file:\n",
    "    i = 0\n",
    "    while True:\n",
    "        line = my_file.readline() # 파일이 너무 커서 메모리에 한 줄씩\n",
    "        if not line: # line에 아무것도 없을 때 까지\n",
    "            break\n",
    "        print(str(i) + ' === ' + line.replace(\"\\n\", \"\")) # 한 줄씩 값 출력\n",
    "        i = i + 1"
   ]
  },
  {
   "cell_type": "markdown",
   "id": "9fe711f8",
   "metadata": {},
   "source": [
    "# File Write"
   ]
  },
  {
   "cell_type": "markdown",
   "id": "0484ee35",
   "metadata": {},
   "source": [
    "### mode는 \"w\", encoding = \"utf8\""
   ]
  },
  {
   "cell_type": "code",
   "execution_count": 1,
   "id": "d9aeedc8",
   "metadata": {},
   "outputs": [
    {
     "ename": "NameError",
     "evalue": "name 'data' is not defined",
     "output_type": "error",
     "traceback": [
      "\u001b[0;31m---------------------------------------------------------------------------\u001b[0m",
      "\u001b[0;31mNameError\u001b[0m                                 Traceback (most recent call last)",
      "Input \u001b[0;32mIn [1]\u001b[0m, in \u001b[0;36m<cell line: 2>\u001b[0;34m()\u001b[0m\n\u001b[1;32m      2\u001b[0m \u001b[38;5;28;01mfor\u001b[39;00m i \u001b[38;5;129;01min\u001b[39;00m \u001b[38;5;28mrange\u001b[39m(\u001b[38;5;241m1\u001b[39m, \u001b[38;5;241m11\u001b[39m):\n\u001b[1;32m      3\u001b[0m     daata \u001b[38;5;241m=\u001b[39m \u001b[38;5;124m\"\u001b[39m\u001b[38;5;132;01m%d\u001b[39;00m\u001b[38;5;124m번째 줄입니다.\u001b[39m\u001b[38;5;130;01m\\n\u001b[39;00m\u001b[38;5;124m\"\u001b[39m \u001b[38;5;241m%\u001b[39m i\n\u001b[0;32m----> 4\u001b[0m     f\u001b[38;5;241m.\u001b[39mwrite(\u001b[43mdata\u001b[49m)\n\u001b[1;32m      5\u001b[0m f\u001b[38;5;241m.\u001b[39mclose()\n",
      "\u001b[0;31mNameError\u001b[0m: name 'data' is not defined"
     ]
    }
   ],
   "source": [
    "f = open(\"파일명.txt\", \"w\", encoding=\"utf8\")\n",
    "for i in range(1, 11):\n",
    "    data = \"%d번째 줄입니다.\\n\" % i\n",
    "    f.write(data)\n",
    "f.close()"
   ]
  },
  {
   "cell_type": "markdown",
   "id": "a24e940b",
   "metadata": {},
   "source": [
    "### mode \"a\"는 추가 모드"
   ]
  },
  {
   "cell_type": "code",
   "execution_count": null,
   "id": "8f2ea70d",
   "metadata": {},
   "outputs": [],
   "source": [
    "with open(\"파일명.txt\", \"a\", encoding=\"utf8\") as f:\n",
    "    for i in range(1, 11):\n",
    "        data = \"%d번째 줄입니다.\\n\" % i\n",
    "        f.write(data)"
   ]
  },
  {
   "cell_type": "markdown",
   "id": "c96eb690",
   "metadata": {},
   "source": [
    "# OS module"
   ]
  },
  {
   "cell_type": "code",
   "execution_count": null,
   "id": "fb581291",
   "metadata": {},
   "outputs": [],
   "source": [
    "import os\n",
    "os.mkdir(\"abc\")"
   ]
  },
  {
   "cell_type": "code",
   "execution_count": null,
   "id": "7e424e1e",
   "metadata": {},
   "outputs": [],
   "source": [
    "try:\n",
    "    os.mkdir(\"abc\")\n",
    "except FileExistsError as e:\n",
    "    print(\"Already created\")\n",
    "# os.path.isfile(\"file.ipynb\")"
   ]
  },
  {
   "cell_type": "markdown",
   "id": "79466f3c",
   "metadata": {},
   "source": [
    "### 파일 옮기기"
   ]
  },
  {
   "cell_type": "code",
   "execution_count": null,
   "id": "c3445a08",
   "metadata": {},
   "outputs": [],
   "source": [
    "import shutil\n",
    "\n",
    "source = \"file.ipynb\"\n",
    "dest = os.path.join(\"abc\", \"file.ipynb\")\n",
    "\n",
    "shutil.copy(source, dest)"
   ]
  },
  {
   "cell_type": "markdown",
   "id": "7bcac963",
   "metadata": {},
   "source": [
    "# Pickle\n",
    "### 1. 파이썬의 객체를 영속화하는 built-in 객체\n",
    "#### 객체는 메모리에 저장되어 인터프리터가 종료되면 사라짐, 계속 파일로 객체를 저장하기 위함\n",
    "### 2. 데이터, object 등 실행 중 정보를 저장, 불러와서 사용\n",
    "### 3. 저장해야하는 정보, 계산 결과(모델) 등 활용이 많음"
   ]
  },
  {
   "cell_type": "code",
   "execution_count": null,
   "id": "ba1c0228",
   "metadata": {},
   "outputs": [],
   "source": [
    "import pickle\n",
    "\n",
    "f = open(\"list.pickle\", \"wb\") # write binary\n",
    "test = [1, 2, 3, 4, 5]\n",
    "pickle.dump(test, f)\n",
    "f.close() # 파일 생성됨"
   ]
  },
  {
   "cell_type": "code",
   "execution_count": null,
   "id": "a2ddb8f3",
   "metadata": {},
   "outputs": [],
   "source": [
    "f = open(\"list.pickle\", \"rb\") # read binary\n",
    "test_pickle = pickle.load(f)\n",
    "print(test_pickle)\n",
    "f.close()"
   ]
  },
  {
   "cell_type": "markdown",
   "id": "35a33176",
   "metadata": {},
   "source": [
    "# logging handling"
   ]
  },
  {
   "cell_type": "markdown",
   "id": "861434b3",
   "metadata": {},
   "source": [
    "## 로그 남기기 - Logging\n",
    "### 프로그램이 실행되는 동안 일어나는 정보를 기록으로 남기기\n",
    "### 유저의 접근, 프로그램의 Exception, 특정 함수의 사용\n",
    "### Console 화면에 출력, 파일에 남기기, DB에 남기기 등등\n",
    "### 기록된 로그를 분석하여 의미있는 결과를 도출할 수 있음\n",
    "### 실행시점에서 남겨야 하는 기록, 개발시점에서 남겨야하는 기록"
   ]
  },
  {
   "cell_type": "markdown",
   "id": "52b622d3",
   "metadata": {},
   "source": [
    "## print vs logging\n",
    "### 기록을 print로 남기는 것도 가능\n",
    "### 그러나 Console 창에만 남기는 기록은 분석 시 사용불가\n",
    "### 때로는 레벨별(개발, 운영)로 기록을 남길 필요도 있음\n",
    "### 모듈별로 별도의 logging을 남길 필요도 있음\n",
    "### 이러한 기능을 체계적으로 지원하는 모듈이 필요함"
   ]
  },
  {
   "cell_type": "code",
   "execution_count": null,
   "id": "8bb8ea6b",
   "metadata": {},
   "outputs": [],
   "source": []
  },
  {
   "cell_type": "code",
   "execution_count": null,
   "id": "e0248790",
   "metadata": {},
   "outputs": [],
   "source": []
  },
  {
   "cell_type": "code",
   "execution_count": null,
   "id": "7ec924b1",
   "metadata": {},
   "outputs": [],
   "source": []
  },
  {
   "cell_type": "code",
   "execution_count": null,
   "id": "bf6dc477",
   "metadata": {},
   "outputs": [],
   "source": []
  },
  {
   "cell_type": "code",
   "execution_count": null,
   "id": "fae83899",
   "metadata": {},
   "outputs": [],
   "source": []
  },
  {
   "cell_type": "code",
   "execution_count": null,
   "id": "487c62f1",
   "metadata": {},
   "outputs": [],
   "source": []
  }
 ],
 "metadata": {
  "kernelspec": {
   "display_name": "Python 3 (ipykernel)",
   "language": "python",
   "name": "python3"
  },
  "language_info": {
   "codemirror_mode": {
    "name": "ipython",
    "version": 3
   },
   "file_extension": ".py",
   "mimetype": "text/x-python",
   "name": "python",
   "nbconvert_exporter": "python",
   "pygments_lexer": "ipython3",
   "version": "3.9.12"
  }
 },
 "nbformat": 4,
 "nbformat_minor": 5
}
