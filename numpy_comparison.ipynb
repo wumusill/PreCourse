{
 "cells": [
  {
   "cell_type": "code",
   "execution_count": 1,
   "id": "d23b60a9",
   "metadata": {},
   "outputs": [],
   "source": [
    "import numpy as np"
   ]
  },
  {
   "cell_type": "markdown",
   "id": "47fcdd5f",
   "metadata": {},
   "source": [
    "### all & any"
   ]
  },
  {
   "cell_type": "code",
   "execution_count": 2,
   "id": "892cdc1d",
   "metadata": {},
   "outputs": [
    {
     "data": {
      "text/plain": [
       "array([0, 1, 2, 3, 4, 5, 6, 7, 8, 9])"
      ]
     },
     "execution_count": 2,
     "metadata": {},
     "output_type": "execute_result"
    }
   ],
   "source": [
    "a = np.arange(10)\n",
    "a"
   ]
  },
  {
   "cell_type": "code",
   "execution_count": 3,
   "id": "447120fe",
   "metadata": {},
   "outputs": [
    {
     "data": {
      "text/plain": [
       "array([ True,  True,  True,  True, False, False, False, False, False,\n",
       "       False])"
      ]
     },
     "execution_count": 3,
     "metadata": {},
     "output_type": "execute_result"
    }
   ],
   "source": [
    "a < 4"
   ]
  },
  {
   "cell_type": "code",
   "execution_count": 4,
   "id": "f2d9818e",
   "metadata": {},
   "outputs": [
    {
     "data": {
      "text/plain": [
       "array([ True, False, False, False, False, False, False, False, False,\n",
       "       False])"
      ]
     },
     "execution_count": 4,
     "metadata": {},
     "output_type": "execute_result"
    }
   ],
   "source": [
    "a < 1"
   ]
  },
  {
   "cell_type": "code",
   "execution_count": 5,
   "id": "c1c6985a",
   "metadata": {},
   "outputs": [
    {
     "data": {
      "text/plain": [
       "False"
      ]
     },
     "execution_count": 5,
     "metadata": {},
     "output_type": "execute_result"
    }
   ],
   "source": [
    "np.all(a < 5)"
   ]
  },
  {
   "cell_type": "code",
   "execution_count": 6,
   "id": "cd599a1d",
   "metadata": {},
   "outputs": [
    {
     "data": {
      "text/plain": [
       "True"
      ]
     },
     "execution_count": 6,
     "metadata": {},
     "output_type": "execute_result"
    }
   ],
   "source": [
    "np.any(a < 5)"
   ]
  },
  {
   "cell_type": "code",
   "execution_count": 8,
   "id": "3a37ecff",
   "metadata": {},
   "outputs": [
    {
     "data": {
      "text/plain": [
       "True"
      ]
     },
     "execution_count": 8,
     "metadata": {},
     "output_type": "execute_result"
    }
   ],
   "source": [
    "np.all(a < 20)"
   ]
  },
  {
   "cell_type": "markdown",
   "id": "ff693355",
   "metadata": {},
   "source": [
    "### comparison operation"
   ]
  },
  {
   "cell_type": "code",
   "execution_count": 9,
   "id": "9adb38bc",
   "metadata": {},
   "outputs": [
    {
     "data": {
      "text/plain": [
       "array([False,  True, False])"
      ]
     },
     "execution_count": 9,
     "metadata": {},
     "output_type": "execute_result"
    }
   ],
   "source": [
    "test_a = np.array([1, 3, 0], float)\n",
    "test_b = np.array([5, 2, 1], float)\n",
    "test_a > test_b"
   ]
  },
  {
   "cell_type": "code",
   "execution_count": 10,
   "id": "c107cc07",
   "metadata": {},
   "outputs": [
    {
     "data": {
      "text/plain": [
       "array([False, False, False])"
      ]
     },
     "execution_count": 10,
     "metadata": {},
     "output_type": "execute_result"
    }
   ],
   "source": [
    "test_a == test_b"
   ]
  },
  {
   "cell_type": "code",
   "execution_count": 11,
   "id": "b4445bd6",
   "metadata": {},
   "outputs": [
    {
     "data": {
      "text/plain": [
       "True"
      ]
     },
     "execution_count": 11,
     "metadata": {},
     "output_type": "execute_result"
    }
   ],
   "source": [
    "(test_a > test_b).any()"
   ]
  },
  {
   "cell_type": "code",
   "execution_count": 15,
   "id": "3f365729",
   "metadata": {},
   "outputs": [
    {
     "data": {
      "text/plain": [
       "False"
      ]
     },
     "execution_count": 15,
     "metadata": {},
     "output_type": "execute_result"
    }
   ],
   "source": [
    "(test_a > test_b).all()"
   ]
  },
  {
   "cell_type": "markdown",
   "id": "30503d99",
   "metadata": {},
   "source": [
    "### comparison operation #2"
   ]
  },
  {
   "cell_type": "code",
   "execution_count": 12,
   "id": "ba610369",
   "metadata": {},
   "outputs": [
    {
     "data": {
      "text/plain": [
       "array([ True, False, False])"
      ]
     },
     "execution_count": 12,
     "metadata": {},
     "output_type": "execute_result"
    }
   ],
   "source": [
    "a = np.array([1, 3, 0], float)\n",
    "np.logical_and(0 < a, a < 3)"
   ]
  },
  {
   "cell_type": "code",
   "execution_count": 13,
   "id": "a5ae9644",
   "metadata": {},
   "outputs": [
    {
     "data": {
      "text/plain": [
       "array([False,  True, False])"
      ]
     },
     "execution_count": 13,
     "metadata": {},
     "output_type": "execute_result"
    }
   ],
   "source": [
    "b = np.array([True, False, True], bool)\n",
    "np.logical_not(b)"
   ]
  },
  {
   "cell_type": "code",
   "execution_count": 14,
   "id": "8d90bce9",
   "metadata": {},
   "outputs": [
    {
     "data": {
      "text/plain": [
       "array([ True,  True,  True])"
      ]
     },
     "execution_count": 14,
     "metadata": {},
     "output_type": "execute_result"
    }
   ],
   "source": [
    "c = np.array([False, True, False], bool)\n",
    "np.logical_or(b, c)"
   ]
  },
  {
   "cell_type": "markdown",
   "id": "6f9a7db9",
   "metadata": {},
   "source": [
    "### np.where"
   ]
  },
  {
   "cell_type": "code",
   "execution_count": 17,
   "id": "af0805e0",
   "metadata": {},
   "outputs": [
    {
     "data": {
      "text/plain": [
       "array([1., 3., 0.])"
      ]
     },
     "execution_count": 17,
     "metadata": {},
     "output_type": "execute_result"
    }
   ],
   "source": [
    "a"
   ]
  },
  {
   "cell_type": "code",
   "execution_count": 21,
   "id": "4e30dc0c",
   "metadata": {},
   "outputs": [
    {
     "data": {
      "text/plain": [
       "(array([1]),)"
      ]
     },
     "execution_count": 21,
     "metadata": {},
     "output_type": "execute_result"
    }
   ],
   "source": [
    "np.where(a > 2) # index 값"
   ]
  },
  {
   "cell_type": "code",
   "execution_count": 19,
   "id": "de24db66",
   "metadata": {},
   "outputs": [
    {
     "data": {
      "text/plain": [
       "(array([1]),)"
      ]
     },
     "execution_count": 19,
     "metadata": {},
     "output_type": "execute_result"
    }
   ],
   "source": [
    "np.where(a > 1)"
   ]
  },
  {
   "cell_type": "code",
   "execution_count": 20,
   "id": "c1e19687",
   "metadata": {},
   "outputs": [
    {
     "data": {
      "text/plain": [
       "array([0, 2])"
      ]
     },
     "execution_count": 20,
     "metadata": {},
     "output_type": "execute_result"
    }
   ],
   "source": [
    "np.where(a < 3)[0]"
   ]
  },
  {
   "cell_type": "code",
   "execution_count": 23,
   "id": "8601e1b6",
   "metadata": {},
   "outputs": [
    {
     "data": {
      "text/plain": [
       "array([3, 2, 3])"
      ]
     },
     "execution_count": 23,
     "metadata": {},
     "output_type": "execute_result"
    }
   ],
   "source": [
    "np.where(a < 3, 3, 2)    # where(condition, TRUE, FALSE)"
   ]
  },
  {
   "cell_type": "code",
   "execution_count": 25,
   "id": "7e2a4215",
   "metadata": {},
   "outputs": [
    {
     "data": {
      "text/plain": [
       "array([ 5,  6,  7,  8,  9, 10, 11, 12, 13, 14])"
      ]
     },
     "execution_count": 25,
     "metadata": {},
     "output_type": "execute_result"
    }
   ],
   "source": [
    "a = np.arange(5, 15)\n",
    "a"
   ]
  },
  {
   "cell_type": "code",
   "execution_count": 26,
   "id": "d1493900",
   "metadata": {},
   "outputs": [
    {
     "data": {
      "text/plain": [
       "(array([6, 7, 8, 9]),)"
      ]
     },
     "execution_count": 26,
     "metadata": {},
     "output_type": "execute_result"
    }
   ],
   "source": [
    "np.where(a > 10)"
   ]
  },
  {
   "cell_type": "code",
   "execution_count": 27,
   "id": "176401a6",
   "metadata": {},
   "outputs": [
    {
     "data": {
      "text/plain": [
       "array([False,  True, False])"
      ]
     },
     "execution_count": 27,
     "metadata": {},
     "output_type": "execute_result"
    }
   ],
   "source": [
    "a = np.array([1, np.NaN, np.Inf], float)\n",
    "np.isnan(a)"
   ]
  },
  {
   "cell_type": "code",
   "execution_count": 28,
   "id": "ef833ea9",
   "metadata": {},
   "outputs": [
    {
     "data": {
      "text/plain": [
       "array([ True, False, False])"
      ]
     },
     "execution_count": 28,
     "metadata": {},
     "output_type": "execute_result"
    }
   ],
   "source": [
    "np.isfinite(a)"
   ]
  },
  {
   "cell_type": "markdown",
   "id": "510bd145",
   "metadata": {},
   "source": [
    "### argmax & argmin\n",
    "* array내 최대값 또는 최소값의 index를 반환"
   ]
  },
  {
   "cell_type": "code",
   "execution_count": 32,
   "id": "fad07f88",
   "metadata": {},
   "outputs": [
    {
     "data": {
      "text/plain": [
       "(5, 0)"
      ]
     },
     "execution_count": 32,
     "metadata": {},
     "output_type": "execute_result"
    }
   ],
   "source": [
    "a = np.array([1, 2, 4, 5, 8, 78, 23, 3])\n",
    "np.argmax(a), np.argmin(a)"
   ]
  },
  {
   "cell_type": "code",
   "execution_count": 34,
   "id": "4592af25",
   "metadata": {},
   "outputs": [
    {
     "data": {
      "text/plain": [
       "array([0, 1, 7, 2, 3, 4, 6, 5])"
      ]
     },
     "execution_count": 34,
     "metadata": {},
     "output_type": "execute_result"
    }
   ],
   "source": [
    "a.argsort() # 크기 순서대로 idex 출력"
   ]
  },
  {
   "cell_type": "code",
   "execution_count": 35,
   "id": "a9e95f8f",
   "metadata": {},
   "outputs": [
    {
     "data": {
      "text/plain": [
       "(array([3, 1, 1]), array([0, 0, 2, 2]))"
      ]
     },
     "execution_count": 35,
     "metadata": {},
     "output_type": "execute_result"
    }
   ],
   "source": [
    "# axis 기반의 반환\n",
    "a = np.array([[1, 2, 4, 7],[9, 88, 6, 45],[9, 76, 3, 4]])\n",
    "np.argmax(a, axis=1), np.argmin(a, axis=0)"
   ]
  },
  {
   "cell_type": "markdown",
   "id": "a6f226fe",
   "metadata": {},
   "source": [
    "### boolean & fancy index"
   ]
  },
  {
   "cell_type": "code",
   "execution_count": 36,
   "id": "01b92302",
   "metadata": {},
   "outputs": [],
   "source": [
    "# 특정 조건에 따른 값을 배열 형태로 추출\n",
    "# Comparison operation 함수들도 모두 사용 가능"
   ]
  },
  {
   "cell_type": "code",
   "execution_count": 37,
   "id": "bac56433",
   "metadata": {},
   "outputs": [
    {
     "data": {
      "text/plain": [
       "array([False,  True, False, False, False,  True,  True,  True])"
      ]
     },
     "execution_count": 37,
     "metadata": {},
     "output_type": "execute_result"
    }
   ],
   "source": [
    "test_array = np.array([1, 4, 0, 2, 3, 8, 9, 7], float)\n",
    "test_array > 3"
   ]
  },
  {
   "cell_type": "code",
   "execution_count": 38,
   "id": "b22cffdb",
   "metadata": {},
   "outputs": [
    {
     "data": {
      "text/plain": [
       "array([4., 8., 9., 7.])"
      ]
     },
     "execution_count": 38,
     "metadata": {},
     "output_type": "execute_result"
    }
   ],
   "source": [
    "# 조건이 True인 index의 element만 추출\n",
    "test_array[test_array > 3]"
   ]
  },
  {
   "cell_type": "code",
   "execution_count": 39,
   "id": "2b30655e",
   "metadata": {},
   "outputs": [
    {
     "data": {
      "text/plain": [
       "array([1., 0., 2.])"
      ]
     },
     "execution_count": 39,
     "metadata": {},
     "output_type": "execute_result"
    }
   ],
   "source": [
    "condition = test_array < 3\n",
    "test_array[condition]"
   ]
  },
  {
   "cell_type": "code",
   "execution_count": 40,
   "id": "306b6594",
   "metadata": {},
   "outputs": [],
   "source": [
    "# fancy index\n",
    "# numpy는 array를 index value로 사용해서 값 추출"
   ]
  },
  {
   "cell_type": "code",
   "execution_count": 42,
   "id": "a7d2bad7",
   "metadata": {},
   "outputs": [
    {
     "data": {
      "text/plain": [
       "array([2., 2., 4., 8., 6., 4.])"
      ]
     },
     "execution_count": 42,
     "metadata": {},
     "output_type": "execute_result"
    }
   ],
   "source": [
    "a = np.array([2, 4, 6, 8], float)\n",
    "b = np.array([0, 0, 1, 3, 2, 1], int) # 반드시 integer로 선언\n",
    "a[b] # bracket index, b 배열의 값을 index로 하여 a의 값들을 추출"
   ]
  },
  {
   "cell_type": "code",
   "execution_count": 43,
   "id": "0e5cdc1f",
   "metadata": {},
   "outputs": [
    {
     "data": {
      "text/plain": [
       "array([2., 2., 4., 8., 6., 4.])"
      ]
     },
     "execution_count": 43,
     "metadata": {},
     "output_type": "execute_result"
    }
   ],
   "source": [
    "a.take(b) # take 함수 : bracket index와 같은 효과"
   ]
  },
  {
   "cell_type": "code",
   "execution_count": 45,
   "id": "57ca0e87",
   "metadata": {},
   "outputs": [
    {
     "data": {
      "text/plain": [
       "array([ 1.,  4., 16., 16.,  4.])"
      ]
     },
     "execution_count": 45,
     "metadata": {},
     "output_type": "execute_result"
    }
   ],
   "source": [
    "a = np.array([[1, 4], [9, 16]], float)\n",
    "b = np.array([0, 0, 1, 1, 0], int)\n",
    "c = np.array([0, 1, 1, 1, 1], int)\n",
    "a[b, c]  # b를 row index, c를 column index로 변환하여 표사"
   ]
  },
  {
   "cell_type": "code",
   "execution_count": 46,
   "id": "8f8a2887",
   "metadata": {},
   "outputs": [
    {
     "data": {
      "text/plain": [
       "array([[ 1.,  4.],\n",
       "       [ 1.,  4.],\n",
       "       [ 9., 16.],\n",
       "       [ 9., 16.],\n",
       "       [ 1.,  4.]])"
      ]
     },
     "execution_count": 46,
     "metadata": {},
     "output_type": "execute_result"
    }
   ],
   "source": [
    "a[b]"
   ]
  },
  {
   "cell_type": "markdown",
   "id": "4f7ab902",
   "metadata": {},
   "source": [
    "### load txt"
   ]
  },
  {
   "cell_type": "code",
   "execution_count": null,
   "id": "28e634cc",
   "metadata": {},
   "outputs": [],
   "source": [
    "a = np.loadtxt(\"./파일명.txt\", delimiter='\\t')\n",
    "a"
   ]
  },
  {
   "cell_type": "code",
   "execution_count": null,
   "id": "c6a7c183",
   "metadata": {},
   "outputs": [],
   "source": [
    "a_int = a.astype(int)\n",
    "a_int_3 = a_int[:3]"
   ]
  },
  {
   "cell_type": "code",
   "execution_count": null,
   "id": "a39fcac0",
   "metadata": {},
   "outputs": [],
   "source": [
    "np.savetxt(\"int_data_2.csv\", a_int_3, fmt=\"%.2e\", delimiter=',')"
   ]
  },
  {
   "cell_type": "markdown",
   "id": "3afe7021",
   "metadata": {},
   "source": [
    "### numpy object - npy"
   ]
  },
  {
   "cell_type": "code",
   "execution_count": null,
   "id": "9be7e42b",
   "metadata": {},
   "outputs": [],
   "source": [
    "np.save(\"파일명\", arr=a_int)"
   ]
  },
  {
   "cell_type": "code",
   "execution_count": null,
   "id": "21818d87",
   "metadata": {},
   "outputs": [],
   "source": [
    "a_test = np.load(file=\"파일명.npy\")\n",
    "a_test"
   ]
  },
  {
   "cell_type": "code",
   "execution_count": null,
   "id": "cc86748f",
   "metadata": {},
   "outputs": [],
   "source": [
    "npy_array = np.load(file=\"파일명.npy\")\n",
    "npy_array[:3]"
   ]
  }
 ],
 "metadata": {
  "kernelspec": {
   "display_name": "Python 3 (ipykernel)",
   "language": "python",
   "name": "python3"
  },
  "language_info": {
   "codemirror_mode": {
    "name": "ipython",
    "version": 3
   },
   "file_extension": ".py",
   "mimetype": "text/x-python",
   "name": "python",
   "nbconvert_exporter": "python",
   "pygments_lexer": "ipython3",
   "version": "3.9.12"
  }
 },
 "nbformat": 4,
 "nbformat_minor": 5
}
