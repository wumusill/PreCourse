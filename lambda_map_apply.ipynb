{
 "cells": [
  {
   "cell_type": "code",
   "execution_count": 1,
   "id": "058ad757",
   "metadata": {},
   "outputs": [],
   "source": [
    "from pandas import Series, DataFrame\n",
    "import pandas as pd\n",
    "import numpy as np"
   ]
  },
  {
   "cell_type": "code",
   "execution_count": 2,
   "id": "67928661",
   "metadata": {},
   "outputs": [
    {
     "data": {
      "text/plain": [
       "0    0\n",
       "1    1\n",
       "2    2\n",
       "3    3\n",
       "4    4\n",
       "dtype: int64"
      ]
     },
     "execution_count": 2,
     "metadata": {},
     "output_type": "execute_result"
    }
   ],
   "source": [
    "s1 = Series(np.arange(10))\n",
    "s1.head(5)"
   ]
  },
  {
   "cell_type": "code",
   "execution_count": 3,
   "id": "94c8b3b8",
   "metadata": {},
   "outputs": [
    {
     "data": {
      "text/plain": [
       "0     0\n",
       "1     1\n",
       "2     4\n",
       "3     9\n",
       "4    16\n",
       "dtype: int64"
      ]
     },
     "execution_count": 3,
     "metadata": {},
     "output_type": "execute_result"
    }
   ],
   "source": [
    "s1.map(lambda x: x**2).head(5)"
   ]
  },
  {
   "cell_type": "code",
   "execution_count": 6,
   "id": "a033d169",
   "metadata": {},
   "outputs": [
    {
     "data": {
      "text/plain": [
       "0    NaN\n",
       "1      A\n",
       "2      B\n",
       "3      C\n",
       "4    NaN\n",
       "5    NaN\n",
       "6    NaN\n",
       "7    NaN\n",
       "8    NaN\n",
       "9    NaN\n",
       "dtype: object"
      ]
     },
     "execution_count": 6,
     "metadata": {},
     "output_type": "execute_result"
    }
   ],
   "source": [
    "# dict type으로 데이터 교체\n",
    "# 없는 값은 NaN\n",
    "z = {1: 'A', 2: 'B', 3: 'C'}\n",
    "s1.map(z)"
   ]
  },
  {
   "cell_type": "code",
   "execution_count": 7,
   "id": "590cfd14",
   "metadata": {},
   "outputs": [
    {
     "data": {
      "text/plain": [
       "0    10\n",
       "1    11\n",
       "2    12\n",
       "3    13\n",
       "4    14\n",
       "5    15\n",
       "6    16\n",
       "7    17\n",
       "8    18\n",
       "9    19\n",
       "dtype: int64"
      ]
     },
     "execution_count": 7,
     "metadata": {},
     "output_type": "execute_result"
    }
   ],
   "source": [
    "# 같은 위치 데이터를 s2로 전환\n",
    "s2 = Series(np.arange(10, 20))\n",
    "s1.map(s2)"
   ]
  },
  {
   "cell_type": "markdown",
   "id": "88eb9d67",
   "metadata": {},
   "source": [
    "### replace function"
   ]
  },
  {
   "cell_type": "code",
   "execution_count": null,
   "id": "efc7f802",
   "metadata": {},
   "outputs": [],
   "source": [
    "df.sex.replace(\n",
    "    {\"male\":0, \"female\":1}\n",
    ").head()"
   ]
  },
  {
   "cell_type": "code",
   "execution_count": null,
   "id": "c45722b4",
   "metadata": {},
   "outputs": [],
   "source": [
    "df.sex.replace(\n",
    "    [\"male\", \"female\"],\n",
    "    [0, 1], inplace=True)"
   ]
  },
  {
   "cell_type": "code",
   "execution_count": null,
   "id": "68144288",
   "metadata": {},
   "outputs": [],
   "source": [
    "def change_sex(x):\n",
    "    return 0 if x == \"male\" else 1\n",
    "\n",
    "df.sex.map(change_sex)"
   ]
  },
  {
   "cell_type": "code",
   "execution_count": 11,
   "id": "cee192cf",
   "metadata": {},
   "outputs": [
    {
     "data": {
      "text/html": [
       "<div>\n",
       "<style scoped>\n",
       "    .dataframe tbody tr th:only-of-type {\n",
       "        vertical-align: middle;\n",
       "    }\n",
       "\n",
       "    .dataframe tbody tr th {\n",
       "        vertical-align: top;\n",
       "    }\n",
       "\n",
       "    .dataframe thead th {\n",
       "        text-align: right;\n",
       "    }\n",
       "</style>\n",
       "<table border=\"1\" class=\"dataframe\">\n",
       "  <thead>\n",
       "    <tr style=\"text-align: right;\">\n",
       "      <th></th>\n",
       "      <th>0</th>\n",
       "      <th>1</th>\n",
       "      <th>2</th>\n",
       "      <th>3</th>\n",
       "      <th>4</th>\n",
       "    </tr>\n",
       "  </thead>\n",
       "  <tbody>\n",
       "    <tr>\n",
       "      <th>0</th>\n",
       "      <td>0</td>\n",
       "      <td>1</td>\n",
       "      <td>2</td>\n",
       "      <td>3</td>\n",
       "      <td>4</td>\n",
       "    </tr>\n",
       "    <tr>\n",
       "      <th>1</th>\n",
       "      <td>5</td>\n",
       "      <td>6</td>\n",
       "      <td>7</td>\n",
       "      <td>8</td>\n",
       "      <td>9</td>\n",
       "    </tr>\n",
       "    <tr>\n",
       "      <th>2</th>\n",
       "      <td>10</td>\n",
       "      <td>11</td>\n",
       "      <td>12</td>\n",
       "      <td>13</td>\n",
       "      <td>14</td>\n",
       "    </tr>\n",
       "    <tr>\n",
       "      <th>3</th>\n",
       "      <td>15</td>\n",
       "      <td>16</td>\n",
       "      <td>17</td>\n",
       "      <td>18</td>\n",
       "      <td>19</td>\n",
       "    </tr>\n",
       "    <tr>\n",
       "      <th>4</th>\n",
       "      <td>20</td>\n",
       "      <td>21</td>\n",
       "      <td>22</td>\n",
       "      <td>23</td>\n",
       "      <td>24</td>\n",
       "    </tr>\n",
       "  </tbody>\n",
       "</table>\n",
       "</div>"
      ],
      "text/plain": [
       "    0   1   2   3   4\n",
       "0   0   1   2   3   4\n",
       "1   5   6   7   8   9\n",
       "2  10  11  12  13  14\n",
       "3  15  16  17  18  19\n",
       "4  20  21  22  23  24"
      ]
     },
     "execution_count": 11,
     "metadata": {},
     "output_type": "execute_result"
    }
   ],
   "source": [
    "df = DataFrame(np.arange(25).reshape(5, 5))\n",
    "df"
   ]
  },
  {
   "cell_type": "markdown",
   "id": "559c6e4a",
   "metadata": {},
   "source": [
    "### apply\n",
    "* map과 달리, series 전체(column)에 해당 함수를 적용\n",
    "* 입력 값이 series 데이터로 입력 받아 handling 가능"
   ]
  },
  {
   "cell_type": "code",
   "execution_count": 13,
   "id": "bbeb99cb",
   "metadata": {},
   "outputs": [],
   "source": [
    "df = pd.read_csv(\"./housing.data\", header=None, sep=\"\\s+\")\n",
    "df.columns = [\"CRIM\", \"ZN\", \"INDUS\", \"CHAS\", \"NOX\", \"RM\", \"AGE\", \"DIS\", \"RAD\", \"TAX\", \"PTRATIO\", \"B\", \"LSTAT\", \"MEDV\"]"
   ]
  },
  {
   "cell_type": "code",
   "execution_count": 15,
   "id": "29c4a8ca",
   "metadata": {},
   "outputs": [
    {
     "data": {
      "text/html": [
       "<div>\n",
       "<style scoped>\n",
       "    .dataframe tbody tr th:only-of-type {\n",
       "        vertical-align: middle;\n",
       "    }\n",
       "\n",
       "    .dataframe tbody tr th {\n",
       "        vertical-align: top;\n",
       "    }\n",
       "\n",
       "    .dataframe thead th {\n",
       "        text-align: right;\n",
       "    }\n",
       "</style>\n",
       "<table border=\"1\" class=\"dataframe\">\n",
       "  <thead>\n",
       "    <tr style=\"text-align: right;\">\n",
       "      <th></th>\n",
       "      <th>INDUS</th>\n",
       "      <th>TAX</th>\n",
       "      <th>AGE</th>\n",
       "    </tr>\n",
       "  </thead>\n",
       "  <tbody>\n",
       "    <tr>\n",
       "      <th>0</th>\n",
       "      <td>2.31</td>\n",
       "      <td>296.0</td>\n",
       "      <td>65.2</td>\n",
       "    </tr>\n",
       "    <tr>\n",
       "      <th>1</th>\n",
       "      <td>7.07</td>\n",
       "      <td>242.0</td>\n",
       "      <td>78.9</td>\n",
       "    </tr>\n",
       "    <tr>\n",
       "      <th>2</th>\n",
       "      <td>7.07</td>\n",
       "      <td>242.0</td>\n",
       "      <td>61.1</td>\n",
       "    </tr>\n",
       "    <tr>\n",
       "      <th>3</th>\n",
       "      <td>2.18</td>\n",
       "      <td>222.0</td>\n",
       "      <td>45.8</td>\n",
       "    </tr>\n",
       "    <tr>\n",
       "      <th>4</th>\n",
       "      <td>2.18</td>\n",
       "      <td>222.0</td>\n",
       "      <td>54.2</td>\n",
       "    </tr>\n",
       "  </tbody>\n",
       "</table>\n",
       "</div>"
      ],
      "text/plain": [
       "   INDUS    TAX   AGE\n",
       "0   2.31  296.0  65.2\n",
       "1   7.07  242.0  78.9\n",
       "2   7.07  242.0  61.1\n",
       "3   2.18  222.0  45.8\n",
       "4   2.18  222.0  54.2"
      ]
     },
     "execution_count": 15,
     "metadata": {},
     "output_type": "execute_result"
    }
   ],
   "source": [
    "df_info = df[[\"INDUS\", \"TAX\", \"AGE\"]]\n",
    "df_info.head()"
   ]
  },
  {
   "cell_type": "code",
   "execution_count": 16,
   "id": "7cb12762",
   "metadata": {},
   "outputs": [
    {
     "data": {
      "text/plain": [
       "INDUS     27.28\n",
       "TAX      524.00\n",
       "AGE       97.10\n",
       "dtype: float64"
      ]
     },
     "execution_count": 16,
     "metadata": {},
     "output_type": "execute_result"
    }
   ],
   "source": [
    "f = lambda x : x.max() - x.min()\n",
    "df_info.apply(f)"
   ]
  },
  {
   "cell_type": "code",
   "execution_count": 17,
   "id": "3e0a069b",
   "metadata": {},
   "outputs": [
    {
     "data": {
      "text/plain": [
       "INDUS      5635.21\n",
       "TAX      206568.00\n",
       "AGE       34698.90\n",
       "dtype: float64"
      ]
     },
     "execution_count": 17,
     "metadata": {},
     "output_type": "execute_result"
    }
   ],
   "source": [
    "df_info.sum()"
   ]
  },
  {
   "cell_type": "code",
   "execution_count": 18,
   "id": "ee13c0ba",
   "metadata": {},
   "outputs": [
    {
     "data": {
      "text/plain": [
       "INDUS     11.136779\n",
       "TAX      408.237154\n",
       "AGE       68.574901\n",
       "dtype: float64"
      ]
     },
     "execution_count": 18,
     "metadata": {},
     "output_type": "execute_result"
    }
   ],
   "source": [
    "df_info.mean()"
   ]
  },
  {
   "cell_type": "code",
   "execution_count": 19,
   "id": "6f097a3c",
   "metadata": {},
   "outputs": [
    {
     "data": {
      "text/html": [
       "<div>\n",
       "<style scoped>\n",
       "    .dataframe tbody tr th:only-of-type {\n",
       "        vertical-align: middle;\n",
       "    }\n",
       "\n",
       "    .dataframe tbody tr th {\n",
       "        vertical-align: top;\n",
       "    }\n",
       "\n",
       "    .dataframe thead th {\n",
       "        text-align: right;\n",
       "    }\n",
       "</style>\n",
       "<table border=\"1\" class=\"dataframe\">\n",
       "  <thead>\n",
       "    <tr style=\"text-align: right;\">\n",
       "      <th></th>\n",
       "      <th>INDUS</th>\n",
       "      <th>TAX</th>\n",
       "      <th>AGE</th>\n",
       "    </tr>\n",
       "  </thead>\n",
       "  <tbody>\n",
       "    <tr>\n",
       "      <th>min</th>\n",
       "      <td>0.46</td>\n",
       "      <td>187.0</td>\n",
       "      <td>2.9</td>\n",
       "    </tr>\n",
       "    <tr>\n",
       "      <th>max</th>\n",
       "      <td>27.74</td>\n",
       "      <td>711.0</td>\n",
       "      <td>100.0</td>\n",
       "    </tr>\n",
       "  </tbody>\n",
       "</table>\n",
       "</div>"
      ],
      "text/plain": [
       "     INDUS    TAX    AGE\n",
       "min   0.46  187.0    2.9\n",
       "max  27.74  711.0  100.0"
      ]
     },
     "execution_count": 19,
     "metadata": {},
     "output_type": "execute_result"
    }
   ],
   "source": [
    "def f(x):\n",
    "    return Series([x.min(), x.max()], index=[\"min\", \"max\"])\n",
    "df_info.apply(f)"
   ]
  },
  {
   "cell_type": "code",
   "execution_count": 20,
   "id": "8fd8e297",
   "metadata": {},
   "outputs": [
    {
     "data": {
      "text/html": [
       "<div>\n",
       "<style scoped>\n",
       "    .dataframe tbody tr th:only-of-type {\n",
       "        vertical-align: middle;\n",
       "    }\n",
       "\n",
       "    .dataframe tbody tr th {\n",
       "        vertical-align: top;\n",
       "    }\n",
       "\n",
       "    .dataframe thead th {\n",
       "        text-align: right;\n",
       "    }\n",
       "</style>\n",
       "<table border=\"1\" class=\"dataframe\">\n",
       "  <thead>\n",
       "    <tr style=\"text-align: right;\">\n",
       "      <th></th>\n",
       "      <th>INDUS</th>\n",
       "      <th>TAX</th>\n",
       "      <th>AGE</th>\n",
       "    </tr>\n",
       "  </thead>\n",
       "  <tbody>\n",
       "    <tr>\n",
       "      <th>0</th>\n",
       "      <td>-2.31</td>\n",
       "      <td>-296.0</td>\n",
       "      <td>-65.2</td>\n",
       "    </tr>\n",
       "    <tr>\n",
       "      <th>1</th>\n",
       "      <td>-7.07</td>\n",
       "      <td>-242.0</td>\n",
       "      <td>-78.9</td>\n",
       "    </tr>\n",
       "    <tr>\n",
       "      <th>2</th>\n",
       "      <td>-7.07</td>\n",
       "      <td>-242.0</td>\n",
       "      <td>-61.1</td>\n",
       "    </tr>\n",
       "    <tr>\n",
       "      <th>3</th>\n",
       "      <td>-2.18</td>\n",
       "      <td>-222.0</td>\n",
       "      <td>-45.8</td>\n",
       "    </tr>\n",
       "    <tr>\n",
       "      <th>4</th>\n",
       "      <td>-2.18</td>\n",
       "      <td>-222.0</td>\n",
       "      <td>-54.2</td>\n",
       "    </tr>\n",
       "  </tbody>\n",
       "</table>\n",
       "</div>"
      ],
      "text/plain": [
       "   INDUS    TAX   AGE\n",
       "0  -2.31 -296.0 -65.2\n",
       "1  -7.07 -242.0 -78.9\n",
       "2  -7.07 -242.0 -61.1\n",
       "3  -2.18 -222.0 -45.8\n",
       "4  -2.18 -222.0 -54.2"
      ]
     },
     "execution_count": 20,
     "metadata": {},
     "output_type": "execute_result"
    }
   ],
   "source": [
    "f = lambda x: -x\n",
    "df_info.applymap(f).head(5)"
   ]
  },
  {
   "cell_type": "code",
   "execution_count": 21,
   "id": "8096e885",
   "metadata": {},
   "outputs": [
    {
     "data": {
      "text/plain": [
       "0   -65.2\n",
       "1   -78.9\n",
       "2   -61.1\n",
       "3   -45.8\n",
       "4   -54.2\n",
       "Name: AGE, dtype: float64"
      ]
     },
     "execution_count": 21,
     "metadata": {},
     "output_type": "execute_result"
    }
   ],
   "source": [
    "f = lambda x: -x\n",
    "df_info[\"AGE\"].apply(f).head(5)"
   ]
  },
  {
   "cell_type": "markdown",
   "id": "0e83de40",
   "metadata": {},
   "source": [
    "### pandas built-in functions"
   ]
  },
  {
   "cell_type": "code",
   "execution_count": 22,
   "id": "0f76f25d",
   "metadata": {},
   "outputs": [
    {
     "data": {
      "text/html": [
       "<div>\n",
       "<style scoped>\n",
       "    .dataframe tbody tr th:only-of-type {\n",
       "        vertical-align: middle;\n",
       "    }\n",
       "\n",
       "    .dataframe tbody tr th {\n",
       "        vertical-align: top;\n",
       "    }\n",
       "\n",
       "    .dataframe thead th {\n",
       "        text-align: right;\n",
       "    }\n",
       "</style>\n",
       "<table border=\"1\" class=\"dataframe\">\n",
       "  <thead>\n",
       "    <tr style=\"text-align: right;\">\n",
       "      <th></th>\n",
       "      <th>CRIM</th>\n",
       "      <th>ZN</th>\n",
       "      <th>INDUS</th>\n",
       "      <th>CHAS</th>\n",
       "      <th>NOX</th>\n",
       "      <th>RM</th>\n",
       "      <th>AGE</th>\n",
       "      <th>DIS</th>\n",
       "      <th>RAD</th>\n",
       "      <th>TAX</th>\n",
       "      <th>PTRATIO</th>\n",
       "      <th>B</th>\n",
       "      <th>LSTAT</th>\n",
       "      <th>MEDV</th>\n",
       "    </tr>\n",
       "  </thead>\n",
       "  <tbody>\n",
       "    <tr>\n",
       "      <th>count</th>\n",
       "      <td>506.000000</td>\n",
       "      <td>506.000000</td>\n",
       "      <td>506.000000</td>\n",
       "      <td>506.000000</td>\n",
       "      <td>506.000000</td>\n",
       "      <td>506.000000</td>\n",
       "      <td>506.000000</td>\n",
       "      <td>506.000000</td>\n",
       "      <td>506.000000</td>\n",
       "      <td>506.000000</td>\n",
       "      <td>506.000000</td>\n",
       "      <td>506.000000</td>\n",
       "      <td>506.000000</td>\n",
       "      <td>506.000000</td>\n",
       "    </tr>\n",
       "    <tr>\n",
       "      <th>mean</th>\n",
       "      <td>3.613524</td>\n",
       "      <td>11.363636</td>\n",
       "      <td>11.136779</td>\n",
       "      <td>0.069170</td>\n",
       "      <td>0.554695</td>\n",
       "      <td>6.284634</td>\n",
       "      <td>68.574901</td>\n",
       "      <td>3.795043</td>\n",
       "      <td>9.549407</td>\n",
       "      <td>408.237154</td>\n",
       "      <td>18.455534</td>\n",
       "      <td>356.674032</td>\n",
       "      <td>12.653063</td>\n",
       "      <td>22.532806</td>\n",
       "    </tr>\n",
       "    <tr>\n",
       "      <th>std</th>\n",
       "      <td>8.601545</td>\n",
       "      <td>23.322453</td>\n",
       "      <td>6.860353</td>\n",
       "      <td>0.253994</td>\n",
       "      <td>0.115878</td>\n",
       "      <td>0.702617</td>\n",
       "      <td>28.148861</td>\n",
       "      <td>2.105710</td>\n",
       "      <td>8.707259</td>\n",
       "      <td>168.537116</td>\n",
       "      <td>2.164946</td>\n",
       "      <td>91.294864</td>\n",
       "      <td>7.141062</td>\n",
       "      <td>9.197104</td>\n",
       "    </tr>\n",
       "    <tr>\n",
       "      <th>min</th>\n",
       "      <td>0.006320</td>\n",
       "      <td>0.000000</td>\n",
       "      <td>0.460000</td>\n",
       "      <td>0.000000</td>\n",
       "      <td>0.385000</td>\n",
       "      <td>3.561000</td>\n",
       "      <td>2.900000</td>\n",
       "      <td>1.129600</td>\n",
       "      <td>1.000000</td>\n",
       "      <td>187.000000</td>\n",
       "      <td>12.600000</td>\n",
       "      <td>0.320000</td>\n",
       "      <td>1.730000</td>\n",
       "      <td>5.000000</td>\n",
       "    </tr>\n",
       "    <tr>\n",
       "      <th>25%</th>\n",
       "      <td>0.082045</td>\n",
       "      <td>0.000000</td>\n",
       "      <td>5.190000</td>\n",
       "      <td>0.000000</td>\n",
       "      <td>0.449000</td>\n",
       "      <td>5.885500</td>\n",
       "      <td>45.025000</td>\n",
       "      <td>2.100175</td>\n",
       "      <td>4.000000</td>\n",
       "      <td>279.000000</td>\n",
       "      <td>17.400000</td>\n",
       "      <td>375.377500</td>\n",
       "      <td>6.950000</td>\n",
       "      <td>17.025000</td>\n",
       "    </tr>\n",
       "    <tr>\n",
       "      <th>50%</th>\n",
       "      <td>0.256510</td>\n",
       "      <td>0.000000</td>\n",
       "      <td>9.690000</td>\n",
       "      <td>0.000000</td>\n",
       "      <td>0.538000</td>\n",
       "      <td>6.208500</td>\n",
       "      <td>77.500000</td>\n",
       "      <td>3.207450</td>\n",
       "      <td>5.000000</td>\n",
       "      <td>330.000000</td>\n",
       "      <td>19.050000</td>\n",
       "      <td>391.440000</td>\n",
       "      <td>11.360000</td>\n",
       "      <td>21.200000</td>\n",
       "    </tr>\n",
       "    <tr>\n",
       "      <th>75%</th>\n",
       "      <td>3.677083</td>\n",
       "      <td>12.500000</td>\n",
       "      <td>18.100000</td>\n",
       "      <td>0.000000</td>\n",
       "      <td>0.624000</td>\n",
       "      <td>6.623500</td>\n",
       "      <td>94.075000</td>\n",
       "      <td>5.188425</td>\n",
       "      <td>24.000000</td>\n",
       "      <td>666.000000</td>\n",
       "      <td>20.200000</td>\n",
       "      <td>396.225000</td>\n",
       "      <td>16.955000</td>\n",
       "      <td>25.000000</td>\n",
       "    </tr>\n",
       "    <tr>\n",
       "      <th>max</th>\n",
       "      <td>88.976200</td>\n",
       "      <td>100.000000</td>\n",
       "      <td>27.740000</td>\n",
       "      <td>1.000000</td>\n",
       "      <td>0.871000</td>\n",
       "      <td>8.780000</td>\n",
       "      <td>100.000000</td>\n",
       "      <td>12.126500</td>\n",
       "      <td>24.000000</td>\n",
       "      <td>711.000000</td>\n",
       "      <td>22.000000</td>\n",
       "      <td>396.900000</td>\n",
       "      <td>37.970000</td>\n",
       "      <td>50.000000</td>\n",
       "    </tr>\n",
       "  </tbody>\n",
       "</table>\n",
       "</div>"
      ],
      "text/plain": [
       "             CRIM          ZN       INDUS        CHAS         NOX          RM  \\\n",
       "count  506.000000  506.000000  506.000000  506.000000  506.000000  506.000000   \n",
       "mean     3.613524   11.363636   11.136779    0.069170    0.554695    6.284634   \n",
       "std      8.601545   23.322453    6.860353    0.253994    0.115878    0.702617   \n",
       "min      0.006320    0.000000    0.460000    0.000000    0.385000    3.561000   \n",
       "25%      0.082045    0.000000    5.190000    0.000000    0.449000    5.885500   \n",
       "50%      0.256510    0.000000    9.690000    0.000000    0.538000    6.208500   \n",
       "75%      3.677083   12.500000   18.100000    0.000000    0.624000    6.623500   \n",
       "max     88.976200  100.000000   27.740000    1.000000    0.871000    8.780000   \n",
       "\n",
       "              AGE         DIS         RAD         TAX     PTRATIO           B  \\\n",
       "count  506.000000  506.000000  506.000000  506.000000  506.000000  506.000000   \n",
       "mean    68.574901    3.795043    9.549407  408.237154   18.455534  356.674032   \n",
       "std     28.148861    2.105710    8.707259  168.537116    2.164946   91.294864   \n",
       "min      2.900000    1.129600    1.000000  187.000000   12.600000    0.320000   \n",
       "25%     45.025000    2.100175    4.000000  279.000000   17.400000  375.377500   \n",
       "50%     77.500000    3.207450    5.000000  330.000000   19.050000  391.440000   \n",
       "75%     94.075000    5.188425   24.000000  666.000000   20.200000  396.225000   \n",
       "max    100.000000   12.126500   24.000000  711.000000   22.000000  396.900000   \n",
       "\n",
       "            LSTAT        MEDV  \n",
       "count  506.000000  506.000000  \n",
       "mean    12.653063   22.532806  \n",
       "std      7.141062    9.197104  \n",
       "min      1.730000    5.000000  \n",
       "25%      6.950000   17.025000  \n",
       "50%     11.360000   21.200000  \n",
       "75%     16.955000   25.000000  \n",
       "max     37.970000   50.000000  "
      ]
     },
     "execution_count": 22,
     "metadata": {},
     "output_type": "execute_result"
    }
   ],
   "source": [
    "# Numeric type 데이터의 요약 정보를 보여줌\n",
    "df.describe()"
   ]
  },
  {
   "cell_type": "code",
   "execution_count": 25,
   "id": "7fceda02",
   "metadata": {},
   "outputs": [
    {
     "data": {
      "text/plain": [
       "array([ 65.2,  78.9,  61.1,  45.8,  54.2,  58.7,  66.6,  96.1, 100. ,\n",
       "        85.9,  94.3,  82.9,  39. ,  61.8,  84.5,  56.5,  29.3,  81.7,\n",
       "        36.6,  69.5,  98.1,  89.2,  91.7,  94.1,  85.7,  90.3,  88.8,\n",
       "        94.4,  87.3,  82. ,  95. ,  96.9,  68.2,  61.4,  41.5,  30.2,\n",
       "        21.8,  15.8,   2.9,   6.6,   6.5,  40. ,  33.8,  33.3,  85.5,\n",
       "        95.3,  62. ,  45.7,  63. ,  21.1,  21.4,  47.6,  21.9,  35.7,\n",
       "        40.5,  29.2,  47.2,  66.2,  93.4,  67.8,  43.4,  59.5,  17.8,\n",
       "        31.1,  36.8,  33. ,  17.5,   7.8,   6.2,   6. ,  45. ,  74.5,\n",
       "        53.7,  33.5,  70.4,  32.2,  46.7,  48. ,  56.1,  45.1,  56.8,\n",
       "        86.3,  63.1,  66.1,  73.9,  53.6,  28.9,  77.3,  57.8,  69.6,\n",
       "        76. ,  36.9,  62.5,  79.9,  71.3,  85.4,  87.4,  90. ,  96.7,\n",
       "        91.9,  85.2,  97.1,  91.2,  54.4,  81.6,  92.9,  95.4,  84.2,\n",
       "        88.2,  72.5,  82.6,  73.1,  69.7,  84.1,  97. ,  95.8,  88.4,\n",
       "        95.6,  96. ,  98.8,  94.7,  98.9,  97.7,  97.9,  98.4,  98.2,\n",
       "        93.5,  93.6,  97.8,  95.7,  93.8,  94.9,  97.3,  88. ,  98.5,\n",
       "        94. ,  97.4,  92.6,  90.8,  93.9,  91.8,  93. ,  96.2,  79.2,\n",
       "        95.2,  94.6,  88.5,  68.7,  33.1,  73.4,  74.4,  58.4,  83.3,\n",
       "        62.2,  92.2,  89.8,  68.8,  41.1,  29.1,  38.9,  21.5,  30.8,\n",
       "        26.3,   9.9,  18.8,  32. ,  34.1,  38.3,  15.3,  13.9,  38.4,\n",
       "        15.7,  33.2,  31.9,  22.3,  52.5,  72.7,  59.1,  92.1,  88.6,\n",
       "        53.8,  32.3,   9.8,  42.4,  56. ,  85.1,  92.4,  91.3,  77.7,\n",
       "        80.8,  78.3,  83. ,  86.5,  17. ,  68.1,  76.9,  73.3,  66.5,\n",
       "        61.5,  76.5,  71.6,  18.5,  42.2,  54.3,  65.1,  52.9,  70.2,\n",
       "        34.9,  49.1,  13. ,   8.9,   6.8,   8.4,  19.1,  34.2,  86.9,\n",
       "        81.8,  89.4,  91.5,  94.5,  91.6,  62.8,  84.6,  67. ,  52.6,\n",
       "        42.1,  16.3,  51.8,  32.9,  42.8,  49. ,  27.6,  32.1,  64.5,\n",
       "        37.2,  49.7,  24.8,  20.8,  31.5,  31.3,  45.6,  22.9,  27.9,\n",
       "        27.7,  23.4,  18.4,  42.3,  51. ,  58. ,  20.1,  10. ,  47.4,\n",
       "        40.4,  17.7,  58.1,  71.9,  70.3,  82.5,  76.7,  37.8,  52.8,\n",
       "        90.4,  82.8,  83.2,  71.7,  67.2,  58.8,  52.3,  49.9,  74.3,\n",
       "        40.1,  14.7,  43.7,  25.8,  17.2,  28.4,  23.3,  38.1,  38.5,\n",
       "        34.5,  46.3,  59.6,  37.3,  45.4,  58.5,  49.3,  59.7,  56.4,\n",
       "        28.1,  48.5,  29.7,  44.4,  35.9,  36.1,  19.5,  91. ,  83.4,\n",
       "        81.3,  91.1,  89. ,  87.9,  91.4,  96.8,  97.5,  89.6,  93.3,\n",
       "        99.1,  89.5,  77.8,  89.1,  87.6,  70.6,  78.7,  78.1,  86.1,\n",
       "        74.8,  97.2,  96.6,  94.8,  96.4,  98.7,  98.3,  99.3,  80.3,\n",
       "        83.7,  84.4,  89.9,  65.4,  48.2,  84.7,  71. ,  56.7,  84. ,\n",
       "        90.7,  75. ,  67.6,  64.7,  74.9,  77. ,  40.3,  41.9,  51.9,\n",
       "        79.8,  53.2,  92.7,  98. ,  83.5,  54. ,  42.6,  28.8,  72.9,\n",
       "        65.3,  73.5,  79.7,  69.1,  89.3])"
      ]
     },
     "execution_count": 25,
     "metadata": {},
     "output_type": "execute_result"
    }
   ],
   "source": [
    "# Series data의 유일한 값을 list로 반환\n",
    "df.AGE.unique()"
   ]
  },
  {
   "cell_type": "code",
   "execution_count": 26,
   "id": "096fc682",
   "metadata": {},
   "outputs": [
    {
     "data": {
      "text/plain": [
       "array({0: 65.2, 1: 78.9, 2: 61.1, 3: 45.8, 4: 54.2, 5: 58.7, 6: 66.6, 7: 96.1, 8: 100.0, 9: 85.9, 10: 94.3, 11: 82.9, 12: 39.0, 13: 61.8, 14: 84.5, 15: 56.5, 16: 29.3, 17: 81.7, 18: 36.6, 19: 69.5, 20: 98.1, 21: 89.2, 22: 91.7, 23: 94.1, 24: 85.7, 25: 90.3, 26: 88.8, 27: 94.4, 28: 87.3, 29: 82.0, 30: 95.0, 31: 96.9, 32: 68.2, 33: 61.4, 34: 41.5, 35: 30.2, 36: 21.8, 37: 15.8, 38: 2.9, 39: 6.6, 40: 6.5, 41: 40.0, 42: 33.8, 43: 33.3, 44: 85.5, 45: 95.3, 46: 62.0, 47: 45.7, 48: 63.0, 49: 21.1, 50: 21.4, 51: 47.6, 52: 21.9, 53: 35.7, 54: 40.5, 55: 29.2, 56: 47.2, 57: 66.2, 58: 93.4, 59: 67.8, 60: 43.4, 61: 59.5, 62: 17.8, 63: 31.1, 64: 36.8, 65: 33.0, 66: 17.5, 67: 7.8, 68: 6.2, 69: 6.0, 70: 45.0, 71: 74.5, 72: 53.7, 73: 33.5, 74: 70.4, 75: 32.2, 76: 46.7, 77: 48.0, 78: 56.1, 79: 45.1, 80: 56.8, 81: 86.3, 82: 63.1, 83: 66.1, 84: 73.9, 85: 53.6, 86: 28.9, 87: 77.3, 88: 57.8, 89: 69.6, 90: 76.0, 91: 36.9, 92: 62.5, 93: 79.9, 94: 71.3, 95: 85.4, 96: 87.4, 97: 90.0, 98: 96.7, 99: 91.9, 100: 85.2, 101: 97.1, 102: 91.2, 103: 54.4, 104: 81.6, 105: 92.9, 106: 95.4, 107: 84.2, 108: 88.2, 109: 72.5, 110: 82.6, 111: 73.1, 112: 69.7, 113: 84.1, 114: 97.0, 115: 95.8, 116: 88.4, 117: 95.6, 118: 96.0, 119: 98.8, 120: 94.7, 121: 98.9, 122: 97.7, 123: 97.9, 124: 98.4, 125: 98.2, 126: 93.5, 127: 93.6, 128: 97.8, 129: 95.7, 130: 93.8, 131: 94.9, 132: 97.3, 133: 88.0, 134: 98.5, 135: 94.0, 136: 97.4, 137: 92.6, 138: 90.8, 139: 93.9, 140: 91.8, 141: 93.0, 142: 96.2, 143: 79.2, 144: 95.2, 145: 94.6, 146: 88.5, 147: 68.7, 148: 33.1, 149: 73.4, 150: 74.4, 151: 58.4, 152: 83.3, 153: 62.2, 154: 92.2, 155: 89.8, 156: 68.8, 157: 41.1, 158: 29.1, 159: 38.9, 160: 21.5, 161: 30.8, 162: 26.3, 163: 9.9, 164: 18.8, 165: 32.0, 166: 34.1, 167: 38.3, 168: 15.3, 169: 13.9, 170: 38.4, 171: 15.7, 172: 33.2, 173: 31.9, 174: 22.3, 175: 52.5, 176: 72.7, 177: 59.1, 178: 92.1, 179: 88.6, 180: 53.8, 181: 32.3, 182: 9.8, 183: 42.4, 184: 56.0, 185: 85.1, 186: 92.4, 187: 91.3, 188: 77.7, 189: 80.8, 190: 78.3, 191: 83.0, 192: 86.5, 193: 17.0, 194: 68.1, 195: 76.9, 196: 73.3, 197: 66.5, 198: 61.5, 199: 76.5, 200: 71.6, 201: 18.5, 202: 42.2, 203: 54.3, 204: 65.1, 205: 52.9, 206: 70.2, 207: 34.9, 208: 49.1, 209: 13.0, 210: 8.9, 211: 6.8, 212: 8.4, 213: 19.1, 214: 34.2, 215: 86.9, 216: 81.8, 217: 89.4, 218: 91.5, 219: 94.5, 220: 91.6, 221: 62.8, 222: 84.6, 223: 67.0, 224: 52.6, 225: 42.1, 226: 16.3, 227: 51.8, 228: 32.9, 229: 42.8, 230: 49.0, 231: 27.6, 232: 32.1, 233: 64.5, 234: 37.2, 235: 49.7, 236: 24.8, 237: 20.8, 238: 31.5, 239: 31.3, 240: 45.6, 241: 22.9, 242: 27.9, 243: 27.7, 244: 23.4, 245: 18.4, 246: 42.3, 247: 51.0, 248: 58.0, 249: 20.1, 250: 10.0, 251: 47.4, 252: 40.4, 253: 17.7, 254: 58.1, 255: 71.9, 256: 70.3, 257: 82.5, 258: 76.7, 259: 37.8, 260: 52.8, 261: 90.4, 262: 82.8, 263: 83.2, 264: 71.7, 265: 67.2, 266: 58.8, 267: 52.3, 268: 49.9, 269: 74.3, 270: 40.1, 271: 14.7, 272: 43.7, 273: 25.8, 274: 17.2, 275: 28.4, 276: 23.3, 277: 38.1, 278: 38.5, 279: 34.5, 280: 46.3, 281: 59.6, 282: 37.3, 283: 45.4, 284: 58.5, 285: 49.3, 286: 59.7, 287: 56.4, 288: 28.1, 289: 48.5, 290: 29.7, 291: 44.4, 292: 35.9, 293: 36.1, 294: 19.5, 295: 91.0, 296: 83.4, 297: 81.3, 298: 91.1, 299: 89.0, 300: 87.9, 301: 91.4, 302: 96.8, 303: 97.5, 304: 89.6, 305: 93.3, 306: 99.1, 307: 89.5, 308: 77.8, 309: 89.1, 310: 87.6, 311: 70.6, 312: 78.7, 313: 78.1, 314: 86.1, 315: 74.8, 316: 97.2, 317: 96.6, 318: 94.8, 319: 96.4, 320: 98.7, 321: 98.3, 322: 99.3, 323: 80.3, 324: 83.7, 325: 84.4, 326: 89.9, 327: 65.4, 328: 48.2, 329: 84.7, 330: 71.0, 331: 56.7, 332: 84.0, 333: 90.7, 334: 75.0, 335: 67.6, 336: 64.7, 337: 74.9, 338: 77.0, 339: 40.3, 340: 41.9, 341: 51.9, 342: 79.8, 343: 53.2, 344: 92.7, 345: 98.0, 346: 83.5, 347: 54.0, 348: 42.6, 349: 28.8, 350: 72.9, 351: 65.3, 352: 73.5, 353: 79.7, 354: 69.1, 355: 89.3},\n",
       "      dtype=object)"
      ]
     },
     "execution_count": 26,
     "metadata": {},
     "output_type": "execute_result"
    }
   ],
   "source": [
    "# dict type으로 index\n",
    "np.array(dict(enumerate(df[\"AGE\"].unique())))"
   ]
  },
  {
   "cell_type": "code",
   "execution_count": null,
   "id": "36d6282e",
   "metadata": {},
   "outputs": [],
   "source": []
  }
 ],
 "metadata": {
  "kernelspec": {
   "display_name": "Python 3 (ipykernel)",
   "language": "python",
   "name": "python3"
  },
  "language_info": {
   "codemirror_mode": {
    "name": "ipython",
    "version": 3
   },
   "file_extension": ".py",
   "mimetype": "text/x-python",
   "name": "python",
   "nbconvert_exporter": "python",
   "pygments_lexer": "ipython3",
   "version": "3.9.12"
  }
 },
 "nbformat": 4,
 "nbformat_minor": 5
}
