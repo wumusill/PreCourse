{
 "cells": [
  {
   "cell_type": "code",
   "execution_count": 21,
   "id": "4cbd8a37",
   "metadata": {},
   "outputs": [],
   "source": [
    "class SoccerPlayer:\n",
    "    def __init__(self, name : str, position : str, back_number : int):\n",
    "        self.name = name\n",
    "        self.position = position\n",
    "        self.back_number = back_number\n",
    "        \n",
    "    def __str__(self):\n",
    "        return \"Hello, My name is {}. My back number is {}\".format(self.name, self.back_number)\n",
    "    \n",
    "    def __add__(self, other):\n",
    "        return self.name + other.name\n",
    "    \n",
    "    def change_back_number(self, new_number):\n",
    "        print(\"선수의 등번호를 변경합니다 : From %d to %d\" %(self.back_number, new_number))\n",
    "        self.back_number = new_number"
   ]
  },
  {
   "cell_type": "code",
   "execution_count": 22,
   "id": "934aa099",
   "metadata": {},
   "outputs": [],
   "source": [
    "abc = SoccerPlayer('son', 'FW', 7)\n",
    "park = SoccerPlayer(\"park\", \"WF\", 13)"
   ]
  },
  {
   "cell_type": "code",
   "execution_count": 23,
   "id": "bb3b8721",
   "metadata": {},
   "outputs": [
    {
     "name": "stdout",
     "output_type": "stream",
     "text": [
      "Hello, My name is park. My back number is 13\n"
     ]
    }
   ],
   "source": [
    "print(park)"
   ]
  },
  {
   "cell_type": "code",
   "execution_count": 24,
   "id": "9059716c",
   "metadata": {},
   "outputs": [
    {
     "data": {
      "text/plain": [
       "'sonpark'"
      ]
     },
     "execution_count": 24,
     "metadata": {},
     "output_type": "execute_result"
    }
   ],
   "source": [
    "abc + park"
   ]
  },
  {
   "cell_type": "code",
   "execution_count": 25,
   "id": "0fedc62e",
   "metadata": {},
   "outputs": [
    {
     "name": "stdout",
     "output_type": "stream",
     "text": [
      "Hello, My name is Jahyeon. My back number is 15\n"
     ]
    }
   ],
   "source": [
    "choi = SoccerPlayer(\"Jahyeon\", \"MF\", 15)\n",
    "print(choi)"
   ]
  },
  {
   "cell_type": "code",
   "execution_count": 26,
   "id": "398edebf",
   "metadata": {},
   "outputs": [
    {
     "name": "stdout",
     "output_type": "stream",
     "text": [
      "선수의 등번호를 변경합니다 : From 15 to 7\n",
      "Hello, My name is Jahyeon. My back number is 7\n"
     ]
    }
   ],
   "source": [
    "choi.change_back_number(7)\n",
    "print(choi)"
   ]
  },
  {
   "cell_type": "markdown",
   "id": "7a65838b",
   "metadata": {},
   "source": [
    "# 상속"
   ]
  },
  {
   "cell_type": "code",
   "execution_count": 29,
   "id": "c4fca62e",
   "metadata": {},
   "outputs": [],
   "source": [
    "class Person:\n",
    "    def __init__(self, name, age, gender):\n",
    "        self.name = name\n",
    "        self.age = age\n",
    "        self.gender = gender \n",
    "\n",
    "class Korean(Person):\n",
    "    pass\n",
    "\n",
    "class Employee(Person):\n",
    "    def __init__(self, name, age, gender, salary, hire_date):\n",
    "        super().__init__(name, age, gender)\n",
    "        self.salary = salary\n",
    "        self.hire_date = hire_date\n",
    "        \n",
    "    def do_work(self):\n",
    "        print('열심히 일을 합니다.')"
   ]
  },
  {
   "cell_type": "code",
   "execution_count": 31,
   "id": "590ed95e",
   "metadata": {},
   "outputs": [
    {
     "name": "stdout",
     "output_type": "stream",
     "text": [
      "Jahyeon\n"
     ]
    }
   ],
   "source": [
    "first_korean = Korean(\"Jahyeon\", 25, 'Male')\n",
    "print(first_korean.name)"
   ]
  },
  {
   "cell_type": "markdown",
   "id": "646d8cce",
   "metadata": {},
   "source": [
    "# 다형성\n",
    "### 같은 이름의 메소드의 **내부 로직을 다르게 작성**"
   ]
  },
  {
   "cell_type": "code",
   "execution_count": 32,
   "id": "f19ef39a",
   "metadata": {},
   "outputs": [],
   "source": [
    "class Animal:\n",
    "    def __init__(self, name):\n",
    "        self.name = name\n",
    "        \n",
    "    def talk(self):\n",
    "        raise NotImplementedError(\"Subclass must implement abstract method\")"
   ]
  },
  {
   "cell_type": "code",
   "execution_count": 33,
   "id": "cd01b3cb",
   "metadata": {},
   "outputs": [],
   "source": [
    "class Cat(Animal):\n",
    "    def talk(self):\n",
    "        return \"Meow!\"\n",
    "\n",
    "    \n",
    "class Dog(Animal):\n",
    "    def talk(self):\n",
    "        return \"Woof! Woof!\""
   ]
  },
  {
   "cell_type": "code",
   "execution_count": 37,
   "id": "37db66aa",
   "metadata": {},
   "outputs": [
    {
     "name": "stdout",
     "output_type": "stream",
     "text": [
      "Meow!\n",
      "Woof! Woof!\n"
     ]
    }
   ],
   "source": [
    "a = Cat('a')\n",
    "b = Dog('b')\n",
    "\n",
    "print(a.talk())\n",
    "print(b.talk())"
   ]
  },
  {
   "cell_type": "markdown",
   "id": "327323ca",
   "metadata": {},
   "source": [
    "# Visibility, 가시성\n",
    "### 누구나 객체 안에 모든 변수를 볼 필요가 없음\n",
    "### 객체의 정보를 볼 수 있는 레벨을 조절하는 것"
   ]
  },
  {
   "cell_type": "code",
   "execution_count": 38,
   "id": "1186bdb8",
   "metadata": {},
   "outputs": [],
   "source": [
    "class Product:\n",
    "    pass"
   ]
  },
  {
   "cell_type": "code",
   "execution_count": 39,
   "id": "5514a20e",
   "metadata": {},
   "outputs": [],
   "source": [
    "class Inventory:\n",
    "    def __init__(self):\n",
    "        self.__items = []\n",
    "        \n",
    "    def add_new_item(self, product):\n",
    "        if type(product) == Product:\n",
    "            self.__items.append(product)\n",
    "            print(\"new item added\")\n",
    "        else:\n",
    "            raise ValueError(\"Invaild Item\")\n",
    "            \n",
    "    def get_number_of_items(self):\n",
    "        return len(self.__items)"
   ]
  },
  {
   "cell_type": "code",
   "execution_count": null,
   "id": "f1ca5a78",
   "metadata": {},
   "outputs": [],
   "source": []
  }
 ],
 "metadata": {
  "kernelspec": {
   "display_name": "Python 3 (ipykernel)",
   "language": "python",
   "name": "python3"
  },
  "language_info": {
   "codemirror_mode": {
    "name": "ipython",
    "version": 3
   },
   "file_extension": ".py",
   "mimetype": "text/x-python",
   "name": "python",
   "nbconvert_exporter": "python",
   "pygments_lexer": "ipython3",
   "version": "3.9.11"
  }
 },
 "nbformat": 4,
 "nbformat_minor": 5
}
